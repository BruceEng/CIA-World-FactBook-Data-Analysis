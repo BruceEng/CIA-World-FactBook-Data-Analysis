{
 "cells": [
  {
   "cell_type": "markdown",
   "metadata": {},
   "source": [
    "# Analyzing CIA Factbook Data Using SQL"
   ]
  },
  {
   "cell_type": "markdown",
   "metadata": {},
   "source": [
    "![](cia2.jpg)"
   ]
  },
  {
   "cell_type": "markdown",
   "metadata": {},
   "source": [
    "## Introduction\n",
    "\n",
    "\n",
    "The **World Factbook**, also known as the **CIA World Factbook**, is a reference **resource** produced by the **Central Intelligence Agency (CIA)** with almanac-style information about the countries of the **world**. It is frequently used as a resource for academic research papers and news articles.\n",
    "\n",
    "The World Factbook provides basic intelligence on the history, people, government, economy, energy, geography, environment, communications, transportation, military, terrorism, and transnational issues for 266 world entities.\n",
    "\n",
    "A wide variety of folks including US Government officials, researchers, news organizations, corporations, geographers, travelers, teachers, professors, librarians, and students access this resource. In short, anyone looking for an expansive body of international data on a recently updated Web site. The World Factbook is visited by tens of millions of visitors annually and is especially popular during the school year, with a noticeable drop-off in online visits during the summer months. In all, The World Factbook is one of the US Government’s most popular Web sites.\n",
    "\n",
    "**<span style=\"color:blue\">In this project</span>**, we'll work with data from the CIA World Factbook found [here](https://www.cia.gov/the-world-factbook/ \"here\"), a compendium of statistics about all of the countries on Earth.\n",
    "\n",
    "**I did plenty of extra research over and above what is called for in this Guided Project and came across very interesting information. <span style=\"color:blue\">For example, you will find out what island is know as <span style=\"color:red\">\"Mutiny on The Bounty\"</span> Island and hear some interesting things about it via Youtube Video.</span>**"
   ]
  },
  {
   "cell_type": "markdown",
   "metadata": {},
   "source": [
    "## Project Goal:\n",
    "\n",
    "The goal of this project is to explore the CIA World Factbook data and answer some very interesting questions associated with:\n",
    "\n",
    "- country population - maximum and minimum.\n",
    "- country population growth - maximum and minimum.\n",
    "- most densely populated countries.\n",
    "- countries with higher death rate than birth rate.\n",
    "- countries with more water than land.\n",
    "- countries with highest ratios under 1.0 of water to land.\n",
    "\n",
    "Looking forward to discovering some very interesting facts!"
   ]
  },
  {
   "cell_type": "markdown",
   "metadata": {},
   "source": [
    "## Why _%%sql_ at start of each cell block?\n",
    "\n",
    "In Jupyter, there are many types of functions that can be executed by preceeding the specific function with double or single % as built-in \"magic commands\". Some examples are:\n",
    "\n",
    "- %%bash\n",
    "- %%capture\n",
    "- %timeit\n",
    "- %run\n",
    "- %%sql\n",
    "- %%...\n",
    "\n",
    "The 'magic %%sql' prefix allows us to pass a multi-line SQL query to a Juypter cell. Without this 'magic command', you would have to import various libraries, make a connection to the database, surround the query with brackets and then execute it, but now it’s just a matter of prefixing the code with %%sql or %sql."
   ]
  },
  {
   "cell_type": "code",
   "execution_count": 1,
   "metadata": {},
   "outputs": [],
   "source": [
    "%%capture\n",
    "%load_ext sql\n",
    "%sql sqlite:///factbook.db"
   ]
  },
  {
   "cell_type": "code",
   "execution_count": 2,
   "metadata": {
    "scrolled": true
   },
   "outputs": [
    {
     "name": "stdout",
     "output_type": "stream",
     "text": [
      " * sqlite:///factbook.db\n",
      "Done.\n"
     ]
    },
    {
     "data": {
      "text/html": [
       "<table>\n",
       "    <tr>\n",
       "        <th>type</th>\n",
       "        <th>name</th>\n",
       "        <th>tbl_name</th>\n",
       "        <th>rootpage</th>\n",
       "        <th>sql</th>\n",
       "    </tr>\n",
       "    <tr>\n",
       "        <td>table</td>\n",
       "        <td>sqlite_sequence</td>\n",
       "        <td>sqlite_sequence</td>\n",
       "        <td>3</td>\n",
       "        <td>CREATE TABLE sqlite_sequence(name,seq)</td>\n",
       "    </tr>\n",
       "    <tr>\n",
       "        <td>table</td>\n",
       "        <td>facts</td>\n",
       "        <td>facts</td>\n",
       "        <td>47</td>\n",
       "        <td>CREATE TABLE &quot;facts&quot; (&quot;id&quot; INTEGER PRIMARY KEY AUTOINCREMENT NOT NULL, &quot;code&quot; varchar(255) NOT NULL, &quot;name&quot; varchar(255) NOT NULL, &quot;area&quot; integer, &quot;area_land&quot; integer, &quot;area_water&quot; integer, &quot;population&quot; integer, &quot;population_growth&quot; float, &quot;birth_rate&quot; float, &quot;death_rate&quot; float, &quot;migration_rate&quot; float)</td>\n",
       "    </tr>\n",
       "</table>"
      ],
      "text/plain": [
       "[('table', 'sqlite_sequence', 'sqlite_sequence', 3, 'CREATE TABLE sqlite_sequence(name,seq)'),\n",
       " ('table', 'facts', 'facts', 47, 'CREATE TABLE \"facts\" (\"id\" INTEGER PRIMARY KEY AUTOINCREMENT NOT NULL, \"code\" varchar(255) NOT NULL, \"name\" varchar(255) NOT NULL, \"area\" integer, \"a ... (4 characters truncated) ... land\" integer, \"area_water\" integer, \"population\" integer, \"population_growth\" float, \"birth_rate\" float, \"death_rate\" float, \"migration_rate\" float)')]"
      ]
     },
     "execution_count": 2,
     "metadata": {},
     "output_type": "execute_result"
    }
   ],
   "source": [
    "%%sql\n",
    "-- NOTE: display all information of tables in factbook database.\n",
    "    \n",
    "SELECT *\n",
    "  FROM sqlite_master\n",
    " WHERE type='table';"
   ]
  },
  {
   "cell_type": "markdown",
   "metadata": {},
   "source": [
    "## Table Description\n",
    "\n",
    "Here are descriptions for some of the columns:\n",
    "\n",
    "* **<span style=\"color:red\">name</span>** — the name of the country.\n",
    "* **<span style=\"color:red\">area</span>** — the country's total area (both land and water).\n",
    "* **<span style=\"color:red\">area_land</span>** — the country's land area in square kilometers.\n",
    "* **<span style=\"color:red\">area_water</span>** — the country's water area in square kilometers.\n",
    "* **<span style=\"color:red\">population</span>** — the country's population.\n",
    "* **<span style=\"color:red\">population_growth</span>** — the country's population growth as a percentage.\n",
    "* **<span style=\"color:red\">birth_rate</span>** — the country's birth rate, or the number of births per year per 1,000 people.\n",
    "* **<span style=\"color:red\">death_rate</span>** — the country's death rate, or the number of death per year per 1,000 people."
   ]
  },
  {
   "cell_type": "code",
   "execution_count": 3,
   "metadata": {},
   "outputs": [
    {
     "name": "stdout",
     "output_type": "stream",
     "text": [
      " * sqlite:///factbook.db\n",
      "Done.\n"
     ]
    },
    {
     "data": {
      "text/html": [
       "<table>\n",
       "    <tr>\n",
       "        <th>id</th>\n",
       "        <th>code</th>\n",
       "        <th>name</th>\n",
       "        <th>area</th>\n",
       "        <th>area_land</th>\n",
       "        <th>area_water</th>\n",
       "        <th>population</th>\n",
       "        <th>population_growth</th>\n",
       "        <th>birth_rate</th>\n",
       "        <th>death_rate</th>\n",
       "        <th>migration_rate</th>\n",
       "    </tr>\n",
       "    <tr>\n",
       "        <td>1</td>\n",
       "        <td>af</td>\n",
       "        <td>Afghanistan</td>\n",
       "        <td>652230</td>\n",
       "        <td>652230</td>\n",
       "        <td>0</td>\n",
       "        <td>32564342</td>\n",
       "        <td>2.32</td>\n",
       "        <td>38.57</td>\n",
       "        <td>13.89</td>\n",
       "        <td>1.51</td>\n",
       "    </tr>\n",
       "    <tr>\n",
       "        <td>2</td>\n",
       "        <td>al</td>\n",
       "        <td>Albania</td>\n",
       "        <td>28748</td>\n",
       "        <td>27398</td>\n",
       "        <td>1350</td>\n",
       "        <td>3029278</td>\n",
       "        <td>0.3</td>\n",
       "        <td>12.92</td>\n",
       "        <td>6.58</td>\n",
       "        <td>3.3</td>\n",
       "    </tr>\n",
       "    <tr>\n",
       "        <td>3</td>\n",
       "        <td>ag</td>\n",
       "        <td>Algeria</td>\n",
       "        <td>2381741</td>\n",
       "        <td>2381741</td>\n",
       "        <td>0</td>\n",
       "        <td>39542166</td>\n",
       "        <td>1.84</td>\n",
       "        <td>23.67</td>\n",
       "        <td>4.31</td>\n",
       "        <td>0.92</td>\n",
       "    </tr>\n",
       "    <tr>\n",
       "        <td>4</td>\n",
       "        <td>an</td>\n",
       "        <td>Andorra</td>\n",
       "        <td>468</td>\n",
       "        <td>468</td>\n",
       "        <td>0</td>\n",
       "        <td>85580</td>\n",
       "        <td>0.12</td>\n",
       "        <td>8.13</td>\n",
       "        <td>6.96</td>\n",
       "        <td>0.0</td>\n",
       "    </tr>\n",
       "    <tr>\n",
       "        <td>5</td>\n",
       "        <td>ao</td>\n",
       "        <td>Angola</td>\n",
       "        <td>1246700</td>\n",
       "        <td>1246700</td>\n",
       "        <td>0</td>\n",
       "        <td>19625353</td>\n",
       "        <td>2.78</td>\n",
       "        <td>38.78</td>\n",
       "        <td>11.49</td>\n",
       "        <td>0.46</td>\n",
       "    </tr>\n",
       "</table>"
      ],
      "text/plain": [
       "[(1, 'af', 'Afghanistan', 652230, 652230, 0, 32564342, 2.32, 38.57, 13.89, 1.51),\n",
       " (2, 'al', 'Albania', 28748, 27398, 1350, 3029278, 0.3, 12.92, 6.58, 3.3),\n",
       " (3, 'ag', 'Algeria', 2381741, 2381741, 0, 39542166, 1.84, 23.67, 4.31, 0.92),\n",
       " (4, 'an', 'Andorra', 468, 468, 0, 85580, 0.12, 8.13, 6.96, 0.0),\n",
       " (5, 'ao', 'Angola', 1246700, 1246700, 0, 19625353, 2.78, 38.78, 11.49, 0.46)]"
      ]
     },
     "execution_count": 3,
     "metadata": {},
     "output_type": "execute_result"
    }
   ],
   "source": [
    "%%sql\n",
    "-- NOTE: observe the first five rows of the table content.\n",
    "    \n",
    "SELECT *\n",
    " FROM facts\n",
    "LIMIT 5;    "
   ]
  },
  {
   "cell_type": "markdown",
   "metadata": {},
   "source": [
    "## <span style=\"color:blue\">Questions</span>\n",
    "\n",
    "#### 1. What is the minimum population of a country in the world?\n",
    "#### 2. What is the maximum population of a country in the world?\n",
    "#### 3. What is the minimum population growth of a country in the world?\n",
    "#### 4. What is the maximum population growth of a country in the world?"
   ]
  },
  {
   "cell_type": "code",
   "execution_count": 4,
   "metadata": {
    "scrolled": true
   },
   "outputs": [
    {
     "name": "stdout",
     "output_type": "stream",
     "text": [
      " * sqlite:///factbook.db\n",
      "Done.\n"
     ]
    },
    {
     "data": {
      "text/html": [
       "<table>\n",
       "    <tr>\n",
       "        <th>Minimum_Population</th>\n",
       "        <th>Maximum_Population</th>\n",
       "        <th>Minimum_Pop_Growth</th>\n",
       "        <th>Maximum_Pop_Growth</th>\n",
       "    </tr>\n",
       "    <tr>\n",
       "        <td>0</td>\n",
       "        <td>7256490011</td>\n",
       "        <td>0.0</td>\n",
       "        <td>4.02</td>\n",
       "    </tr>\n",
       "</table>"
      ],
      "text/plain": [
       "[(0, 7256490011, 0.0, 4.02)]"
      ]
     },
     "execution_count": 4,
     "metadata": {},
     "output_type": "execute_result"
    }
   ],
   "source": [
    "%%sql\n",
    "-- NOTE: Check out reasonableness on Min and Max values for population and population growth.\n",
    "    \n",
    "SELECT MIN(population) AS Minimum_Population,\n",
    "       MAX(population) AS Maximum_Population,\n",
    "       MIN(population_growth) AS Minimum_Pop_Growth,\n",
    "       MAX(population_growth) AS Maximum_Pop_Growth\n",
    "  FROM facts;"
   ]
  },
  {
   "cell_type": "markdown",
   "metadata": {},
   "source": [
    "## <span style=\"color:red\">Crazy Numbers!</span>\n",
    "\n",
    "Neither the minimum (0) nor maximum (7,256,490,011) populations look reasonable for any specific country. The maximum value is actually the total world population.\n",
    "\n",
    "In order to answer the questions posed further above, we need to do some data cleaning. Yes!! The joy of data analysis!!"
   ]
  },
  {
   "cell_type": "markdown",
   "metadata": {},
   "source": [
    "# Population"
   ]
  },
  {
   "cell_type": "code",
   "execution_count": 5,
   "metadata": {},
   "outputs": [
    {
     "name": "stdout",
     "output_type": "stream",
     "text": [
      " * sqlite:///factbook.db\n",
      "Done.\n"
     ]
    },
    {
     "data": {
      "text/html": [
       "<table>\n",
       "    <tr>\n",
       "        <th>Country</th>\n",
       "        <th>Population</th>\n",
       "    </tr>\n",
       "    <tr>\n",
       "        <td>Ashmore and Cartier Islands</td>\n",
       "        <td>None</td>\n",
       "    </tr>\n",
       "    <tr>\n",
       "        <td>Coral Sea Islands</td>\n",
       "        <td>None</td>\n",
       "    </tr>\n",
       "    <tr>\n",
       "        <td>Heard Island and McDonald Islands</td>\n",
       "        <td>None</td>\n",
       "    </tr>\n",
       "    <tr>\n",
       "        <td>Clipperton Island</td>\n",
       "        <td>None</td>\n",
       "    </tr>\n",
       "    <tr>\n",
       "        <td>French Southern and Antarctic Lands</td>\n",
       "        <td>None</td>\n",
       "    </tr>\n",
       "    <tr>\n",
       "        <td>Bouvet Island</td>\n",
       "        <td>None</td>\n",
       "    </tr>\n",
       "    <tr>\n",
       "        <td>Jan Mayen</td>\n",
       "        <td>None</td>\n",
       "    </tr>\n",
       "    <tr>\n",
       "        <td>British Indian Ocean Territory</td>\n",
       "        <td>None</td>\n",
       "    </tr>\n",
       "    <tr>\n",
       "        <td>South Georgia and South Sandwich Islands</td>\n",
       "        <td>None</td>\n",
       "    </tr>\n",
       "    <tr>\n",
       "        <td>Navassa Island</td>\n",
       "        <td>None</td>\n",
       "    </tr>\n",
       "    <tr>\n",
       "        <td>Wake Island</td>\n",
       "        <td>None</td>\n",
       "    </tr>\n",
       "    <tr>\n",
       "        <td>United States Pacific Island Wildlife Refuges</td>\n",
       "        <td>None</td>\n",
       "    </tr>\n",
       "    <tr>\n",
       "        <td>Paracel Islands</td>\n",
       "        <td>None</td>\n",
       "    </tr>\n",
       "    <tr>\n",
       "        <td>Spratly Islands</td>\n",
       "        <td>None</td>\n",
       "    </tr>\n",
       "    <tr>\n",
       "        <td>Arctic Ocean</td>\n",
       "        <td>None</td>\n",
       "    </tr>\n",
       "    <tr>\n",
       "        <td>Atlantic Ocean</td>\n",
       "        <td>None</td>\n",
       "    </tr>\n",
       "    <tr>\n",
       "        <td>Indian Ocean</td>\n",
       "        <td>None</td>\n",
       "    </tr>\n",
       "    <tr>\n",
       "        <td>Pacific Ocean</td>\n",
       "        <td>None</td>\n",
       "    </tr>\n",
       "    <tr>\n",
       "        <td>Southern Ocean</td>\n",
       "        <td>None</td>\n",
       "    </tr>\n",
       "    <tr>\n",
       "        <td>Antarctica</td>\n",
       "        <td>0</td>\n",
       "    </tr>\n",
       "    <tr>\n",
       "        <td>Pitcairn Islands</td>\n",
       "        <td>48</td>\n",
       "    </tr>\n",
       "    <tr>\n",
       "        <td>Cocos (Keeling) Islands</td>\n",
       "        <td>596</td>\n",
       "    </tr>\n",
       "    <tr>\n",
       "        <td>Holy See (Vatican City)</td>\n",
       "        <td>842</td>\n",
       "    </tr>\n",
       "    <tr>\n",
       "        <td>Niue</td>\n",
       "        <td>1190</td>\n",
       "    </tr>\n",
       "    <tr>\n",
       "        <td>Tokelau</td>\n",
       "        <td>1337</td>\n",
       "    </tr>\n",
       "</table>"
      ],
      "text/plain": [
       "[('Ashmore and Cartier Islands', None),\n",
       " ('Coral Sea Islands', None),\n",
       " ('Heard Island and McDonald Islands', None),\n",
       " ('Clipperton Island', None),\n",
       " ('French Southern and Antarctic Lands', None),\n",
       " ('Bouvet Island', None),\n",
       " ('Jan Mayen', None),\n",
       " ('British Indian Ocean Territory', None),\n",
       " ('South Georgia and South Sandwich Islands', None),\n",
       " ('Navassa Island', None),\n",
       " ('Wake Island', None),\n",
       " ('United States Pacific Island Wildlife Refuges', None),\n",
       " ('Paracel Islands', None),\n",
       " ('Spratly Islands', None),\n",
       " ('Arctic Ocean', None),\n",
       " ('Atlantic Ocean', None),\n",
       " ('Indian Ocean', None),\n",
       " ('Pacific Ocean', None),\n",
       " ('Southern Ocean', None),\n",
       " ('Antarctica', 0),\n",
       " ('Pitcairn Islands', 48),\n",
       " ('Cocos (Keeling) Islands', 596),\n",
       " ('Holy See (Vatican City)', 842),\n",
       " ('Niue', 1190),\n",
       " ('Tokelau', 1337)]"
      ]
     },
     "execution_count": 5,
     "metadata": {},
     "output_type": "execute_result"
    }
   ],
   "source": [
    "%%sql\n",
    "-- NOTE: reveal the top 25 rows of poulation with lowest values\n",
    "-- to determine how many countries show 0 population.\n",
    "\n",
    "SELECT name AS Country, population AS Population\n",
    "  FROM facts\n",
    "ORDER BY population\n",
    "LIMIT 25;\n"
   ]
  },
  {
   "cell_type": "markdown",
   "metadata": {},
   "source": [
    "## <span style=\"color:green\">Observations</span>\n",
    "\n",
    "We see there is only one country with 0 population; Antactica.\n",
    "\n",
    "**Antarctica** is known for being the highest, driest, coldest and windiest continent on earth. ... Although there are no native Antarcticans and no permanent residents or citizens of Antarctica, many people do live in Antarctica each year. So, since there are no permanent residents, then **on that basis the populaiton is deemed to be 0.**\n",
    "\n",
    "There are 19 countries that have 'None\" assigned to population."
   ]
  },
  {
   "cell_type": "code",
   "execution_count": 6,
   "metadata": {},
   "outputs": [
    {
     "name": "stdout",
     "output_type": "stream",
     "text": [
      " * sqlite:///factbook.db\n",
      "Done.\n"
     ]
    },
    {
     "data": {
      "text/html": [
       "<table>\n",
       "    <tr>\n",
       "        <th>Country</th>\n",
       "        <th>Population</th>\n",
       "    </tr>\n",
       "    <tr>\n",
       "        <td>World</td>\n",
       "        <td>7256490011</td>\n",
       "    </tr>\n",
       "    <tr>\n",
       "        <td>China</td>\n",
       "        <td>1367485388</td>\n",
       "    </tr>\n",
       "    <tr>\n",
       "        <td>India</td>\n",
       "        <td>1251695584</td>\n",
       "    </tr>\n",
       "    <tr>\n",
       "        <td>European Union</td>\n",
       "        <td>513949445</td>\n",
       "    </tr>\n",
       "    <tr>\n",
       "        <td>United States</td>\n",
       "        <td>321368864</td>\n",
       "    </tr>\n",
       "</table>"
      ],
      "text/plain": [
       "[('World', 7256490011),\n",
       " ('China', 1367485388),\n",
       " ('India', 1251695584),\n",
       " ('European Union', 513949445),\n",
       " ('United States', 321368864)]"
      ]
     },
     "execution_count": 6,
     "metadata": {},
     "output_type": "execute_result"
    }
   ],
   "source": [
    "%%sql\n",
    "-- NOTE: reveal the top 10 rows of poulation with highest values\n",
    "-- to determine if there are any other unreasonable high population values.\n",
    "\n",
    "SELECT name AS Country, population AS Population\n",
    "  FROM facts\n",
    "ORDER BY population DESC\n",
    "LIMIT 5;"
   ]
  },
  {
   "cell_type": "markdown",
   "metadata": {},
   "source": [
    "## <span style=\"color:green\">Observation</span>\n",
    "\n",
    "It looks like there is only one large population value that is unreasonable for a country population; \"World\"."
   ]
  },
  {
   "cell_type": "code",
   "execution_count": 7,
   "metadata": {},
   "outputs": [
    {
     "name": "stdout",
     "output_type": "stream",
     "text": [
      " * sqlite:///factbook.db\n",
      "Done.\n"
     ]
    },
    {
     "data": {
      "text/html": [
       "<table>\n",
       "    <tr>\n",
       "        <th>Minimum_Population</th>\n",
       "        <th>Maximum_Population</th>\n",
       "        <th>Minimum_Pop_Growth</th>\n",
       "        <th>Maximum_Pop_Growth</th>\n",
       "    </tr>\n",
       "    <tr>\n",
       "        <td>48</td>\n",
       "        <td>1367485388</td>\n",
       "        <td>0.0</td>\n",
       "        <td>4.02</td>\n",
       "    </tr>\n",
       "</table>"
      ],
      "text/plain": [
       "[(48, 1367485388, 0.0, 4.02)]"
      ]
     },
     "execution_count": 7,
     "metadata": {},
     "output_type": "execute_result"
    }
   ],
   "source": [
    "%%sql\n",
    "-- NOTE: remove unreasonable population values to determine correct minimum abd maximum values.\n",
    "\n",
    "SELECT MIN(population) AS Minimum_Population,\n",
    "       MAX(population) AS Maximum_Population,\n",
    "       MIN(population_growth) AS Minimum_Pop_Growth,\n",
    "       MAX(population_growth) AS Maximum_Pop_Growth\n",
    "  FROM facts\n",
    "WHERE (population > 0) AND (population < 7000000000) AND (population != 'None');\n"
   ]
  },
  {
   "cell_type": "markdown",
   "metadata": {},
   "source": [
    "## <span style=\"color:green\">Observations - Population</span>\n",
    "\n",
    "We now have a number greater than 0 for minimum (48) and a number less than the world population for maximum (1,367,485,388).\n",
    "\n",
    "Let's find out what countries those belong to."
   ]
  },
  {
   "cell_type": "code",
   "execution_count": 8,
   "metadata": {},
   "outputs": [
    {
     "name": "stdout",
     "output_type": "stream",
     "text": [
      " * sqlite:///factbook.db\n",
      "Done.\n"
     ]
    },
    {
     "data": {
      "text/html": [
       "<table>\n",
       "    <tr>\n",
       "        <th>Country</th>\n",
       "        <th>Population</th>\n",
       "    </tr>\n",
       "    <tr>\n",
       "        <td>China</td>\n",
       "        <td>1367485388</td>\n",
       "    </tr>\n",
       "    <tr>\n",
       "        <td>Pitcairn Islands</td>\n",
       "        <td>48</td>\n",
       "    </tr>\n",
       "</table>"
      ],
      "text/plain": [
       "[('China', 1367485388), ('Pitcairn Islands', 48)]"
      ]
     },
     "execution_count": 8,
     "metadata": {},
     "output_type": "execute_result"
    }
   ],
   "source": [
    "%%sql\n",
    "-- NOTE: request minimum and maximum values by calling out exact values with WHERE code.\n",
    "\n",
    "\n",
    "SELECT name AS Country, population AS Population\n",
    "  FROM facts\n",
    " WHERE (population = 48) OR (population = 1367485388);   "
   ]
  },
  {
   "cell_type": "markdown",
   "metadata": {},
   "source": [
    "## <span style=\"color:green\">Observations - Population</span>\n",
    "\n",
    "I think most everyone knows that **China** has the largest population.\n",
    "\n",
    "First settled by mutineers in 1790, with a population of **48**, **Pitcairn** is a British Overseas Territory (map below) and is considered the **world's smallest country** by population and is only slightly larger than Monaco.\n",
    "\n",
    "The Pitcairn Islands group is a British Overseas Territory. It comprises the islands of Pitcairn, Henderson, Ducie and Oeno. Pitcairn, the only inhabited island, is a small volcanic outcrop situated in the South Pacific at latitude 25.04 south and longitude 130.06 west. It is roughly 2170km (1350 miles) east south-east of Tahiti and just over 6600km (4100 miles) from Panama. The Islands' administrative headquarters are situated in Auckland New Zealand, 5310km (3300 miles) away. **MORE INTERESTING INFORMATION ON PITCAIRN TO COME!!**\n"
   ]
  },
  {
   "cell_type": "markdown",
   "metadata": {},
   "source": [
    "![](PI4.jpg)"
   ]
  },
  {
   "cell_type": "markdown",
   "metadata": {},
   "source": [
    "# Population Growth\n",
    "\n",
    "Population growth output shown further above revealed maximum as 4.02 and minimum as 0.0. The units for these values is percent. The value 4.02 as a percent doesn't seem unreasonable as a maximum. It's possible that the minimum value of 0.0 could be authentic.\n",
    "\n",
    "Let's find out what countries have these values."
   ]
  },
  {
   "cell_type": "code",
   "execution_count": 9,
   "metadata": {},
   "outputs": [
    {
     "name": "stdout",
     "output_type": "stream",
     "text": [
      " * sqlite:///factbook.db\n",
      "Done.\n"
     ]
    },
    {
     "data": {
      "text/html": [
       "<table>\n",
       "    <tr>\n",
       "        <th>Country</th>\n",
       "        <th>Population_Growth</th>\n",
       "        <th>Death_Rate</th>\n",
       "        <th>Birth_Rate</th>\n",
       "    </tr>\n",
       "    <tr>\n",
       "        <td>South Sudan</td>\n",
       "        <td>4.02</td>\n",
       "        <td>8.18</td>\n",
       "        <td>36.91</td>\n",
       "    </tr>\n",
       "    <tr>\n",
       "        <td>Holy See (Vatican City)</td>\n",
       "        <td>0.0</td>\n",
       "        <td>None</td>\n",
       "        <td>None</td>\n",
       "    </tr>\n",
       "    <tr>\n",
       "        <td>Cocos (Keeling) Islands</td>\n",
       "        <td>0.0</td>\n",
       "        <td>None</td>\n",
       "        <td>None</td>\n",
       "    </tr>\n",
       "    <tr>\n",
       "        <td>Greenland</td>\n",
       "        <td>0.0</td>\n",
       "        <td>8.49</td>\n",
       "        <td>14.48</td>\n",
       "    </tr>\n",
       "    <tr>\n",
       "        <td>Pitcairn Islands</td>\n",
       "        <td>0.0</td>\n",
       "        <td>None</td>\n",
       "        <td>None</td>\n",
       "    </tr>\n",
       "</table>"
      ],
      "text/plain": [
       "[('South Sudan', 4.02, 8.18, 36.91),\n",
       " ('Holy See (Vatican City)', 0.0, None, None),\n",
       " ('Cocos (Keeling) Islands', 0.0, None, None),\n",
       " ('Greenland', 0.0, 8.49, 14.48),\n",
       " ('Pitcairn Islands', 0.0, None, None)]"
      ]
     },
     "execution_count": 9,
     "metadata": {},
     "output_type": "execute_result"
    }
   ],
   "source": [
    "%%sql\n",
    "-- NOTE: identify the countries with lowest and highest population growth values.\n",
    "\n",
    "SELECT name AS Country, population_growth AS Population_Growth, death_rate AS Death_Rate, birth_rate AS Birth_Rate\n",
    "  FROM facts\n",
    " WHERE (population_growth = 0.0) OR (population_growth = 4.02);   "
   ]
  },
  {
   "cell_type": "markdown",
   "metadata": {},
   "source": [
    "## <span style=\"color:green\">Observations - Population Growth</span>\n",
    "\n",
    "**Maximum population growth:**  **South Sudan** is shown to be the one with maximum population growth. Looking at the ratio of birth rate to death rate (36.91/8.18 = 4.51) certainly contributes to the high population growth. the calculated value of 4.02 is valid for a specific year around 2009 and 2010 according to the South Sudan annual growth rate **<span style=\"color:blue\">graph below</span>**. The graph shows growth rate fluctuation to be very high year to year. The most recent growth rate shown for 2019 is only 0.78.\n",
    "\n",
    "**Minimum population growth:** There are four \"countries\" shown above for which population growth rate is reported as 0. **<span style=\"color:RED\">Are these correct?</span>** Let's find out with further research.\n",
    "\n",
    "First, let's see the definition of population growth rate that the \"CIA World Factbook\" bases their growth rate calulations on.\n",
    "\n",
    "**Population Growth Definition:** The average annual percent change in the population, resulting from a surplus (or deficit) of births over deaths and the balance of migrants entering and leaving a country. The rate may be positive or negative. The growth rate is a factor in determining how great a burden would be imposed on a country by the changing needs of its people for infrastructure (e.g., schools, hospitals, housing, roads), resources (e.g., food, water, electricity), and jobs. Rapid population growth can be seen as threatening by neighboring countries.\n",
    "\n",
    "**Vatican City**: Here is a statment I found that seems to justify 0 population growth to be reported by \"CIA World Factbook\", _\"Vatican City is the only state in the world with a zero birth rate. This is explained by the fact that there are no maternity hospitals within the territory of this small state. The babies of this enclave's citizens are born in Roman hospitals.\"_ \n",
    "\n",
    "**Cocos (Keeling) Island** The Cocos Island growth rate **<span style=\"color:red\">graph below</span>**, indicates growth reate was 0 from 2003 to 2014. From what I've read, that seems to have remained at 0 with little or no information on reasons why no change.\n",
    "\n",
    "**Greenland** Looking at the Greenland population growth rate **<span style=\"color:green\">graph further below</span>**, we see that population growth has been hovering around zero from 1993 to present. In fact population growth rate is projected to consistently be negative in the future. Information from an article titled, \"AWI Comments on Greenland’s\n",
    "Methods for Calculating Aboriginal Subsistence Need\" states the following:\n",
    "\n",
    "- Greenland’s population is declining. Greenland’s methodology does not acknowledge that most of the population increase in Greenland from 1985 to 2012 occurred in the 1980s and 1990s but has slowed since then and that its population is now\n",
    "contracting based on Greenland’s own statistical data. A recent government publication, “Greenland in Figures, 2014,” shows that the 2014 population (56,282) is lower than in 2002 (56,545) and is expected to decrease further. The front page of the self-rule government’s Statistics Greenland website dated May 15, 2014 announces that the total population “is over the next 20 years projected to decline from todays 56,282 persons to 55,900 in 2020 and 54,800 in 2030”. The projected decline can partly be attributed to a fall in the total fertility rate to 2.0 children per woman in Greenland (below the replacement level for population stability of 2.1 children). In addition, emigration consistently exceeds immigration.\n",
    "\n",
    "\n",
    "**Pitcairn** is well known as the **\"Mutiny on the Bounty\"** Island. [Here](https://www.youtube.com/watch?v=eJ-Q4D5aXPk \"Here\") is a very interesting discussion on Youtube titled **\"Pitcairn Islands Face Extinction\"**, that's validates the reason why Pitcairn population growth is currently declared to be 0."
   ]
  },
  {
   "cell_type": "markdown",
   "metadata": {},
   "source": [
    "![](South%20Sudan2.jpg)"
   ]
  },
  {
   "cell_type": "markdown",
   "metadata": {},
   "source": [
    "![](Cocos.jpg)"
   ]
  },
  {
   "cell_type": "markdown",
   "metadata": {},
   "source": [
    "![](Greenland.jpg)"
   ]
  },
  {
   "cell_type": "markdown",
   "metadata": {},
   "source": [
    "## <span style=\"color:blue\">Question - Most Densely Populated Countries</span>\n",
    "\n",
    "#### What countries have population above average AND total land area below average?"
   ]
  },
  {
   "cell_type": "markdown",
   "metadata": {},
   "source": [
    "### NOTE:\n",
    "\n",
    "We have already identified unrealistic populations and will exclude those from calculating average population.\n",
    "\n",
    "We need to determine if there are any unrealistic country \"area\" values in the dataset that must be excluded from average country area calculations."
   ]
  },
  {
   "cell_type": "code",
   "execution_count": 10,
   "metadata": {},
   "outputs": [
    {
     "name": "stdout",
     "output_type": "stream",
     "text": [
      " * sqlite:///factbook.db\n",
      "Done.\n"
     ]
    },
    {
     "data": {
      "text/html": [
       "<table>\n",
       "    <tr>\n",
       "        <th>Country</th>\n",
       "        <th>Maximum_Land_area</th>\n",
       "    </tr>\n",
       "    <tr>\n",
       "        <td>Russia</td>\n",
       "        <td>17098242</td>\n",
       "    </tr>\n",
       "</table>"
      ],
      "text/plain": [
       "[('Russia', 17098242)]"
      ]
     },
     "execution_count": 10,
     "metadata": {},
     "output_type": "execute_result"
    }
   ],
   "source": [
    "%%sql\n",
    "SELECT name AS Country, MAX(area) AS Maximum_Land_area\n",
    "  FROM facts;"
   ]
  },
  {
   "cell_type": "markdown",
   "metadata": {},
   "source": [
    "## <span style=\"color:red\">Cross Check</span>\n",
    "\n",
    "I confirmed the land area shown above for Russia is accurate and not unreasonable."
   ]
  },
  {
   "cell_type": "code",
   "execution_count": 11,
   "metadata": {},
   "outputs": [
    {
     "name": "stdout",
     "output_type": "stream",
     "text": [
      " * sqlite:///factbook.db\n",
      "Done.\n"
     ]
    },
    {
     "data": {
      "text/html": [
       "<table>\n",
       "    <tr>\n",
       "        <th>Country</th>\n",
       "        <th>Land_Area</th>\n",
       "    </tr>\n",
       "    <tr>\n",
       "        <td>Chad</td>\n",
       "        <td>None</td>\n",
       "    </tr>\n",
       "    <tr>\n",
       "        <td>Niger</td>\n",
       "        <td>None</td>\n",
       "    </tr>\n",
       "    <tr>\n",
       "        <td>French Southern and Antarctic Lands</td>\n",
       "        <td>None</td>\n",
       "    </tr>\n",
       "    <tr>\n",
       "        <td>Saint Barthelemy</td>\n",
       "        <td>None</td>\n",
       "    </tr>\n",
       "    <tr>\n",
       "        <td>United States Pacific Island Wildlife Refuges</td>\n",
       "        <td>None</td>\n",
       "    </tr>\n",
       "    <tr>\n",
       "        <td>Antarctica</td>\n",
       "        <td>None</td>\n",
       "    </tr>\n",
       "    <tr>\n",
       "        <td>Arctic Ocean</td>\n",
       "        <td>None</td>\n",
       "    </tr>\n",
       "    <tr>\n",
       "        <td>Atlantic Ocean</td>\n",
       "        <td>None</td>\n",
       "    </tr>\n",
       "    <tr>\n",
       "        <td>Indian Ocean</td>\n",
       "        <td>None</td>\n",
       "    </tr>\n",
       "    <tr>\n",
       "        <td>Pacific Ocean</td>\n",
       "        <td>None</td>\n",
       "    </tr>\n",
       "    <tr>\n",
       "        <td>Southern Ocean</td>\n",
       "        <td>None</td>\n",
       "    </tr>\n",
       "    <tr>\n",
       "        <td>World</td>\n",
       "        <td>None</td>\n",
       "    </tr>\n",
       "    <tr>\n",
       "        <td>Holy See (Vatican City)</td>\n",
       "        <td>0</td>\n",
       "    </tr>\n",
       "    <tr>\n",
       "        <td>Monaco</td>\n",
       "        <td>2</td>\n",
       "    </tr>\n",
       "</table>"
      ],
      "text/plain": [
       "[('Chad', None),\n",
       " ('Niger', None),\n",
       " ('French Southern and Antarctic Lands', None),\n",
       " ('Saint Barthelemy', None),\n",
       " ('United States Pacific Island Wildlife Refuges', None),\n",
       " ('Antarctica', None),\n",
       " ('Arctic Ocean', None),\n",
       " ('Atlantic Ocean', None),\n",
       " ('Indian Ocean', None),\n",
       " ('Pacific Ocean', None),\n",
       " ('Southern Ocean', None),\n",
       " ('World', None),\n",
       " ('Holy See (Vatican City)', 0),\n",
       " ('Monaco', 2)]"
      ]
     },
     "execution_count": 11,
     "metadata": {},
     "output_type": "execute_result"
    }
   ],
   "source": [
    "%%sql\n",
    "-- NOTE: check values of lowest land area for reasonableness.\n",
    "\n",
    "SELECT name AS Country, area as Land_Area\n",
    "  FROM facts\n",
    "ORDER BY area\n",
    "LIMIT 14;"
   ]
  },
  {
   "cell_type": "markdown",
   "metadata": {},
   "source": [
    "## <span style=\"color:green\">Observations</span>\n",
    "\n",
    "Vatican City land area is shown as 0 and that may be because it is less that 1 sq. km. In fact, it is actually 0.49 sq. km. and is shown in the table below as 0 since it was rounded down as an integer. However, I think we should exclude that from the calculations of averages, because I consider Vatican City land area as a significant \"outlier\" that would distort the calculated averages.\n",
    "\n",
    "There are 12 other \"countries\" showing 'None' for area."
   ]
  },
  {
   "attachments": {
    "Smallest%2010.jpg": {
     "image/jpeg": "[encoded data removed]"
    }
   },
   "cell_type": "markdown",
   "metadata": {},
   "source": [
    "![Smallest%2010.jpg](attachment:Smallest%2010.jpg)"
   ]
  },
  {
   "cell_type": "code",
   "execution_count": 12,
   "metadata": {},
   "outputs": [
    {
     "name": "stdout",
     "output_type": "stream",
     "text": [
      " * sqlite:///factbook.db\n",
      "Done.\n"
     ]
    },
    {
     "data": {
      "text/html": [
       "<table>\n",
       "    <tr>\n",
       "        <th>Average_Population</th>\n",
       "        <th>Average_Land_Area</th>\n",
       "    </tr>\n",
       "    <tr>\n",
       "        <td>32799988</td>\n",
       "        <td>585419</td>\n",
       "    </tr>\n",
       "</table>"
      ],
      "text/plain": [
       "[(32799988, 585419)]"
      ]
     },
     "execution_count": 12,
     "metadata": {},
     "output_type": "execute_result"
    }
   ],
   "source": [
    "%%sql\n",
    "-- NOTE: exclude appropriate values in order to generate correct averages.\n",
    "\n",
    "SELECT CAST(AVG(population) AS INT) AS Average_Population, CAST(AVG(area) AS INT) AS Average_Land_Area\n",
    "  FROM facts\n",
    " WHERE (population < 7000000000) AND (population > 0) AND(area > 0);    "
   ]
  },
  {
   "cell_type": "code",
   "execution_count": 13,
   "metadata": {},
   "outputs": [
    {
     "name": "stdout",
     "output_type": "stream",
     "text": [
      " * sqlite:///factbook.db\n",
      "Done.\n"
     ]
    },
    {
     "data": {
      "text/html": [
       "<table>\n",
       "    <tr>\n",
       "        <th>Country</th>\n",
       "        <th>Population</th>\n",
       "        <th>Land_Area</th>\n",
       "        <th>People_Per_Sq_Km</th>\n",
       "    </tr>\n",
       "    <tr>\n",
       "        <td>Bangladesh</td>\n",
       "        <td>168957745</td>\n",
       "        <td>148460</td>\n",
       "        <td>1138</td>\n",
       "    </tr>\n",
       "    <tr>\n",
       "        <td>Korea, South</td>\n",
       "        <td>49115196</td>\n",
       "        <td>99720</td>\n",
       "        <td>492</td>\n",
       "    </tr>\n",
       "    <tr>\n",
       "        <td>Philippines</td>\n",
       "        <td>100998376</td>\n",
       "        <td>300000</td>\n",
       "        <td>336</td>\n",
       "    </tr>\n",
       "    <tr>\n",
       "        <td>Japan</td>\n",
       "        <td>126919659</td>\n",
       "        <td>377915</td>\n",
       "        <td>335</td>\n",
       "    </tr>\n",
       "    <tr>\n",
       "        <td>Vietnam</td>\n",
       "        <td>94348835</td>\n",
       "        <td>331210</td>\n",
       "        <td>284</td>\n",
       "    </tr>\n",
       "    <tr>\n",
       "        <td>United Kingdom</td>\n",
       "        <td>64088222</td>\n",
       "        <td>243610</td>\n",
       "        <td>263</td>\n",
       "    </tr>\n",
       "    <tr>\n",
       "        <td>Germany</td>\n",
       "        <td>80854408</td>\n",
       "        <td>357022</td>\n",
       "        <td>226</td>\n",
       "    </tr>\n",
       "    <tr>\n",
       "        <td>Italy</td>\n",
       "        <td>61855120</td>\n",
       "        <td>301340</td>\n",
       "        <td>205</td>\n",
       "    </tr>\n",
       "    <tr>\n",
       "        <td>Uganda</td>\n",
       "        <td>37101745</td>\n",
       "        <td>241038</td>\n",
       "        <td>153</td>\n",
       "    </tr>\n",
       "    <tr>\n",
       "        <td>Thailand</td>\n",
       "        <td>67976405</td>\n",
       "        <td>513120</td>\n",
       "        <td>132</td>\n",
       "    </tr>\n",
       "    <tr>\n",
       "        <td>Poland</td>\n",
       "        <td>38562189</td>\n",
       "        <td>312685</td>\n",
       "        <td>123</td>\n",
       "    </tr>\n",
       "    <tr>\n",
       "        <td>Spain</td>\n",
       "        <td>48146134</td>\n",
       "        <td>505370</td>\n",
       "        <td>95</td>\n",
       "    </tr>\n",
       "    <tr>\n",
       "        <td>Iraq</td>\n",
       "        <td>37056169</td>\n",
       "        <td>438317</td>\n",
       "        <td>84</td>\n",
       "    </tr>\n",
       "    <tr>\n",
       "        <td>Morocco</td>\n",
       "        <td>33322699</td>\n",
       "        <td>446550</td>\n",
       "        <td>74</td>\n",
       "    </tr>\n",
       "</table>"
      ],
      "text/plain": [
       "[('Bangladesh', 168957745, 148460, 1138),\n",
       " ('Korea, South', 49115196, 99720, 492),\n",
       " ('Philippines', 100998376, 300000, 336),\n",
       " ('Japan', 126919659, 377915, 335),\n",
       " ('Vietnam', 94348835, 331210, 284),\n",
       " ('United Kingdom', 64088222, 243610, 263),\n",
       " ('Germany', 80854408, 357022, 226),\n",
       " ('Italy', 61855120, 301340, 205),\n",
       " ('Uganda', 37101745, 241038, 153),\n",
       " ('Thailand', 67976405, 513120, 132),\n",
       " ('Poland', 38562189, 312685, 123),\n",
       " ('Spain', 48146134, 505370, 95),\n",
       " ('Iraq', 37056169, 438317, 84),\n",
       " ('Morocco', 33322699, 446550, 74)]"
      ]
     },
     "execution_count": 13,
     "metadata": {},
     "output_type": "execute_result"
    }
   ],
   "source": [
    "%%sql\n",
    "-- NOTE: specify both population and area in WHERE clause to generate apporpriate results.\n",
    "\n",
    "SELECT name as Country, population as Population, area AS Land_Area, population / area AS People_Per_Sq_Km\n",
    "  FROM facts\n",
    " WHERE population > (SELECT AVG(population)\n",
    "                       FROM facts WHERE (population < 7000000000) AND (population > 0))\n",
    "   AND area < (SELECT AVG(area) FROM facts)\n",
    "ORDER BY People_Per_Sq_Km DESC;\n"
   ]
  },
  {
   "cell_type": "markdown",
   "metadata": {},
   "source": [
    "## <span style=\"color:green\">Observations</span>\n",
    "\n",
    "**Bangladesh** shows to have the highest density of people per square kilometre at 1138. That is **more than twice** the next highest densely populated country: South Korea at 492.\n",
    "\n",
    "[HERE](https://www.ncbi.nlm.nih.gov/pmc/articles/PMC2740702/ \"Here\") is an interesting article on Bangladesh, titled, \"Population Challenges for Bangladesh in the Coming Decades\"."
   ]
  },
  {
   "cell_type": "markdown",
   "metadata": {},
   "source": [
    "## Dive Further: Into The Most Densely Populated \"Countries\"\n",
    "\n",
    "Let's check country population density **without the restriction** of population being above average and land area being below average.\n",
    "\n",
    "**<span style=\"color:blue\">We might find some very interesting information.</span>**"
   ]
  },
  {
   "cell_type": "code",
   "execution_count": 14,
   "metadata": {},
   "outputs": [
    {
     "name": "stdout",
     "output_type": "stream",
     "text": [
      " * sqlite:///factbook.db\n",
      "Done.\n"
     ]
    },
    {
     "data": {
      "text/html": [
       "<table>\n",
       "    <tr>\n",
       "        <th>Country</th>\n",
       "        <th>Land_Area</th>\n",
       "        <th>Population</th>\n",
       "        <th>People_Per_SQ_Km</th>\n",
       "    </tr>\n",
       "    <tr>\n",
       "        <td>Macau</td>\n",
       "        <td>28</td>\n",
       "        <td>592731</td>\n",
       "        <td>21168</td>\n",
       "    </tr>\n",
       "    <tr>\n",
       "        <td>Monaco</td>\n",
       "        <td>2</td>\n",
       "        <td>30535</td>\n",
       "        <td>15267</td>\n",
       "    </tr>\n",
       "    <tr>\n",
       "        <td>Singapore</td>\n",
       "        <td>697</td>\n",
       "        <td>5674472</td>\n",
       "        <td>8141</td>\n",
       "    </tr>\n",
       "    <tr>\n",
       "        <td>Hong Kong</td>\n",
       "        <td>1108</td>\n",
       "        <td>7141106</td>\n",
       "        <td>6445</td>\n",
       "    </tr>\n",
       "    <tr>\n",
       "        <td>Gaza Strip</td>\n",
       "        <td>360</td>\n",
       "        <td>1869055</td>\n",
       "        <td>5191</td>\n",
       "    </tr>\n",
       "    <tr>\n",
       "        <td>Gibraltar</td>\n",
       "        <td>6</td>\n",
       "        <td>29258</td>\n",
       "        <td>4876</td>\n",
       "    </tr>\n",
       "    <tr>\n",
       "        <td>Bahrain</td>\n",
       "        <td>760</td>\n",
       "        <td>1346613</td>\n",
       "        <td>1771</td>\n",
       "    </tr>\n",
       "    <tr>\n",
       "        <td>Maldives</td>\n",
       "        <td>298</td>\n",
       "        <td>393253</td>\n",
       "        <td>1319</td>\n",
       "    </tr>\n",
       "    <tr>\n",
       "        <td>Malta</td>\n",
       "        <td>316</td>\n",
       "        <td>413965</td>\n",
       "        <td>1310</td>\n",
       "    </tr>\n",
       "    <tr>\n",
       "        <td>Bermuda</td>\n",
       "        <td>54</td>\n",
       "        <td>70196</td>\n",
       "        <td>1299</td>\n",
       "    </tr>\n",
       "    <tr>\n",
       "        <td>Sint Maarten</td>\n",
       "        <td>34</td>\n",
       "        <td>39689</td>\n",
       "        <td>1167</td>\n",
       "    </tr>\n",
       "    <tr>\n",
       "        <td>Bangladesh</td>\n",
       "        <td>148460</td>\n",
       "        <td>168957745</td>\n",
       "        <td>1138</td>\n",
       "    </tr>\n",
       "</table>"
      ],
      "text/plain": [
       "[('Macau', 28, 592731, 21168),\n",
       " ('Monaco', 2, 30535, 15267),\n",
       " ('Singapore', 697, 5674472, 8141),\n",
       " ('Hong Kong', 1108, 7141106, 6445),\n",
       " ('Gaza Strip', 360, 1869055, 5191),\n",
       " ('Gibraltar', 6, 29258, 4876),\n",
       " ('Bahrain', 760, 1346613, 1771),\n",
       " ('Maldives', 298, 393253, 1319),\n",
       " ('Malta', 316, 413965, 1310),\n",
       " ('Bermuda', 54, 70196, 1299),\n",
       " ('Sint Maarten', 34, 39689, 1167),\n",
       " ('Bangladesh', 148460, 168957745, 1138)]"
      ]
     },
     "execution_count": 14,
     "metadata": {},
     "output_type": "execute_result"
    }
   ],
   "source": [
    "%%sql\n",
    "SELECT name AS Country, area AS Land_Area, population AS Population, population/area AS People_Per_SQ_Km\n",
    "  FROM facts\n",
    " WHERE (area != 'None') AND (population != 'None') AND (population < 7000000000)\n",
    "ORDER BY People_Per_Sq_Km DESC\n",
    "LIMIT 12"
   ]
  },
  {
   "cell_type": "markdown",
   "metadata": {},
   "source": [
    "## <span style=\"color:green\">Observations</span>\n",
    "\n",
    "Some of the \"countries\" listed above are categorized as such either based on the title \"sovereign city-state\" (e.g. Monoco) or some other reason. For example, Macau is a city in socio-demographic terms, and a Special Administrative Region of the People's Republic of China in governmental terms. Macau is not a country, it is a special administrative region under the Chinese one-country-two-system. It was a Portuguese colony granted by the Chinese for centuries before it reverted back to China in 1999.\n",
    "\n",
    "**Macau** is shown to be the most density populated \"country\" in the world at **21,168** people per square kilometre. **This is almsot 19 times that of Bangladesh.** It has been deemed to be a \"country\" by the CIA World Factbook Org. and therefore was included in this dataset.\n",
    "\n",
    "If we were able to list the most densely populated cities in the world, Macau would be well down on the list. The city that has the highest population density in the world is **Manila** in the Philippines, which was found to have a population per square km. of **46,178!!** This is more than twice that of Macau."
   ]
  },
  {
   "cell_type": "markdown",
   "metadata": {},
   "source": [
    "## <span style=\"color:blue\">Question</span>\n",
    "\n",
    "#### Which countries have a higher death rate than birth rate?"
   ]
  },
  {
   "cell_type": "code",
   "execution_count": 15,
   "metadata": {},
   "outputs": [
    {
     "name": "stdout",
     "output_type": "stream",
     "text": [
      " * sqlite:///factbook.db\n",
      "Done.\n"
     ]
    },
    {
     "data": {
      "text/html": [
       "<table>\n",
       "    <tr>\n",
       "        <th>Country</th>\n",
       "        <th>Death_Rate</th>\n",
       "        <th>Birth_Rate</th>\n",
       "        <th>Death_to_Birth_Ratio</th>\n",
       "    </tr>\n",
       "    <tr>\n",
       "        <td>Bulgaria</td>\n",
       "        <td>14.44</td>\n",
       "        <td>8.92</td>\n",
       "        <td>1.619</td>\n",
       "    </tr>\n",
       "    <tr>\n",
       "        <td>Serbia</td>\n",
       "        <td>13.66</td>\n",
       "        <td>9.08</td>\n",
       "        <td>1.504</td>\n",
       "    </tr>\n",
       "    <tr>\n",
       "        <td>Latvia</td>\n",
       "        <td>14.31</td>\n",
       "        <td>10.0</td>\n",
       "        <td>1.431</td>\n",
       "    </tr>\n",
       "    <tr>\n",
       "        <td>Lithuania</td>\n",
       "        <td>14.27</td>\n",
       "        <td>10.1</td>\n",
       "        <td>1.413</td>\n",
       "    </tr>\n",
       "    <tr>\n",
       "        <td>Hungary</td>\n",
       "        <td>12.73</td>\n",
       "        <td>9.16</td>\n",
       "        <td>1.39</td>\n",
       "    </tr>\n",
       "    <tr>\n",
       "        <td>Monaco</td>\n",
       "        <td>9.24</td>\n",
       "        <td>6.65</td>\n",
       "        <td>1.389</td>\n",
       "    </tr>\n",
       "    <tr>\n",
       "        <td>Slovenia</td>\n",
       "        <td>11.37</td>\n",
       "        <td>8.42</td>\n",
       "        <td>1.35</td>\n",
       "    </tr>\n",
       "    <tr>\n",
       "        <td>Ukraine</td>\n",
       "        <td>14.46</td>\n",
       "        <td>10.72</td>\n",
       "        <td>1.349</td>\n",
       "    </tr>\n",
       "    <tr>\n",
       "        <td>Germany</td>\n",
       "        <td>11.42</td>\n",
       "        <td>8.47</td>\n",
       "        <td>1.348</td>\n",
       "    </tr>\n",
       "    <tr>\n",
       "        <td>Saint Pierre and Miquelon</td>\n",
       "        <td>9.72</td>\n",
       "        <td>7.42</td>\n",
       "        <td>1.31</td>\n",
       "    </tr>\n",
       "    <tr>\n",
       "        <td>Romania</td>\n",
       "        <td>11.9</td>\n",
       "        <td>9.14</td>\n",
       "        <td>1.302</td>\n",
       "    </tr>\n",
       "    <tr>\n",
       "        <td>Croatia</td>\n",
       "        <td>12.18</td>\n",
       "        <td>9.45</td>\n",
       "        <td>1.289</td>\n",
       "    </tr>\n",
       "    <tr>\n",
       "        <td>Greece</td>\n",
       "        <td>11.09</td>\n",
       "        <td>8.66</td>\n",
       "        <td>1.281</td>\n",
       "    </tr>\n",
       "    <tr>\n",
       "        <td>Belarus</td>\n",
       "        <td>13.36</td>\n",
       "        <td>10.7</td>\n",
       "        <td>1.249</td>\n",
       "    </tr>\n",
       "    <tr>\n",
       "        <td>Japan</td>\n",
       "        <td>9.51</td>\n",
       "        <td>7.93</td>\n",
       "        <td>1.199</td>\n",
       "    </tr>\n",
       "    <tr>\n",
       "        <td>Portugal</td>\n",
       "        <td>11.02</td>\n",
       "        <td>9.27</td>\n",
       "        <td>1.189</td>\n",
       "    </tr>\n",
       "    <tr>\n",
       "        <td>Estonia</td>\n",
       "        <td>12.4</td>\n",
       "        <td>10.51</td>\n",
       "        <td>1.18</td>\n",
       "    </tr>\n",
       "    <tr>\n",
       "        <td>Russia</td>\n",
       "        <td>13.69</td>\n",
       "        <td>11.6</td>\n",
       "        <td>1.18</td>\n",
       "    </tr>\n",
       "    <tr>\n",
       "        <td>Italy</td>\n",
       "        <td>10.19</td>\n",
       "        <td>8.74</td>\n",
       "        <td>1.166</td>\n",
       "    </tr>\n",
       "    <tr>\n",
       "        <td>Bosnia and Herzegovina</td>\n",
       "        <td>9.75</td>\n",
       "        <td>8.87</td>\n",
       "        <td>1.099</td>\n",
       "    </tr>\n",
       "    <tr>\n",
       "        <td>Czech Republic</td>\n",
       "        <td>10.34</td>\n",
       "        <td>9.63</td>\n",
       "        <td>1.074</td>\n",
       "    </tr>\n",
       "    <tr>\n",
       "        <td>Moldova</td>\n",
       "        <td>12.59</td>\n",
       "        <td>12.0</td>\n",
       "        <td>1.049</td>\n",
       "    </tr>\n",
       "    <tr>\n",
       "        <td>Poland</td>\n",
       "        <td>10.19</td>\n",
       "        <td>9.74</td>\n",
       "        <td>1.046</td>\n",
       "    </tr>\n",
       "    <tr>\n",
       "        <td>Austria</td>\n",
       "        <td>9.42</td>\n",
       "        <td>9.41</td>\n",
       "        <td>1.001</td>\n",
       "    </tr>\n",
       "</table>"
      ],
      "text/plain": [
       "[('Bulgaria', 14.44, 8.92, 1.619),\n",
       " ('Serbia', 13.66, 9.08, 1.504),\n",
       " ('Latvia', 14.31, 10.0, 1.431),\n",
       " ('Lithuania', 14.27, 10.1, 1.413),\n",
       " ('Hungary', 12.73, 9.16, 1.39),\n",
       " ('Monaco', 9.24, 6.65, 1.389),\n",
       " ('Slovenia', 11.37, 8.42, 1.35),\n",
       " ('Ukraine', 14.46, 10.72, 1.349),\n",
       " ('Germany', 11.42, 8.47, 1.348),\n",
       " ('Saint Pierre and Miquelon', 9.72, 7.42, 1.31),\n",
       " ('Romania', 11.9, 9.14, 1.302),\n",
       " ('Croatia', 12.18, 9.45, 1.289),\n",
       " ('Greece', 11.09, 8.66, 1.281),\n",
       " ('Belarus', 13.36, 10.7, 1.249),\n",
       " ('Japan', 9.51, 7.93, 1.199),\n",
       " ('Portugal', 11.02, 9.27, 1.189),\n",
       " ('Estonia', 12.4, 10.51, 1.18),\n",
       " ('Russia', 13.69, 11.6, 1.18),\n",
       " ('Italy', 10.19, 8.74, 1.166),\n",
       " ('Bosnia and Herzegovina', 9.75, 8.87, 1.099),\n",
       " ('Czech Republic', 10.34, 9.63, 1.074),\n",
       " ('Moldova', 12.59, 12.0, 1.049),\n",
       " ('Poland', 10.19, 9.74, 1.046),\n",
       " ('Austria', 9.42, 9.41, 1.001)]"
      ]
     },
     "execution_count": 15,
     "metadata": {},
     "output_type": "execute_result"
    }
   ],
   "source": [
    "%%sql\n",
    "SELECT name AS Country, death_rate as Death_Rate, birth_rate AS Birth_Rate, ROUND(death_rate / birth_rate, 3) AS Death_to_Birth_Ratio\n",
    "  FROM facts\n",
    " WHERE Death_to_Birth_Ratio > 1.0\n",
    "ORDER BY Death_to_Birth_Ratio DESC;"
   ]
  },
  {
   "cell_type": "markdown",
   "metadata": {},
   "source": [
    "## <span style=\"color:green\">Observations</span>\n",
    "\n",
    "**<span style=\"color:blue\">Very, very interesting!</span>** Of the 24 countries listed above, only two \"countries\" are NOT part of Europe: \"Saint Pierre and Miquelon\" and Japan. **Wow!**\n",
    "\n",
    "So why are 92% of the above listed countries with higher death rates than birth rates in Europe. I found an interesting article called, **\"Deaths Exceed Births in Most of Europe\"** that provides some explanation. It's available [here](https://scholars.unh.edu/cgi/viewcontent.cgi?article=1261&context=carsey \"here\") as a _pdf_ file.\n",
    "\n",
    "When I checked whether Saint Pierre and Miquelon are part of Europe, I was surpised to find out it was just south of Newfoundland and **is NOT part of Canada!** Saint-Pierre and Miquelon (a group of islands) are the last piece of French territory in North America. They are quite distinct from Newfoundland and Labrador."
   ]
  },
  {
   "cell_type": "markdown",
   "metadata": {},
   "source": [
    "## <span style=\"color:blue\">Question</span>\n",
    "\n",
    "#### Which countries have the highest birth rate?"
   ]
  },
  {
   "cell_type": "code",
   "execution_count": 16,
   "metadata": {},
   "outputs": [
    {
     "name": "stdout",
     "output_type": "stream",
     "text": [
      " * sqlite:///factbook.db\n",
      "Done.\n"
     ]
    },
    {
     "data": {
      "text/html": [
       "<table>\n",
       "    <tr>\n",
       "        <th>Country</th>\n",
       "        <th>Birth_Rate</th>\n",
       "        <th>Death_Rate</th>\n",
       "        <th>Population</th>\n",
       "    </tr>\n",
       "    <tr>\n",
       "        <td>Niger</td>\n",
       "        <td>45.45</td>\n",
       "        <td>12.42</td>\n",
       "        <td>18045729</td>\n",
       "    </tr>\n",
       "    <tr>\n",
       "        <td>Mali</td>\n",
       "        <td>44.99</td>\n",
       "        <td>12.89</td>\n",
       "        <td>16955536</td>\n",
       "    </tr>\n",
       "    <tr>\n",
       "        <td>Uganda</td>\n",
       "        <td>43.79</td>\n",
       "        <td>10.69</td>\n",
       "        <td>37101745</td>\n",
       "    </tr>\n",
       "    <tr>\n",
       "        <td>Zambia</td>\n",
       "        <td>42.13</td>\n",
       "        <td>12.67</td>\n",
       "        <td>15066266</td>\n",
       "    </tr>\n",
       "    <tr>\n",
       "        <td>Burkina Faso</td>\n",
       "        <td>42.03</td>\n",
       "        <td>11.72</td>\n",
       "        <td>18931686</td>\n",
       "    </tr>\n",
       "    <tr>\n",
       "        <td>Burundi</td>\n",
       "        <td>42.01</td>\n",
       "        <td>9.27</td>\n",
       "        <td>10742276</td>\n",
       "    </tr>\n",
       "    <tr>\n",
       "        <td>Malawi</td>\n",
       "        <td>41.56</td>\n",
       "        <td>8.41</td>\n",
       "        <td>17964697</td>\n",
       "    </tr>\n",
       "    <tr>\n",
       "        <td>Somalia</td>\n",
       "        <td>40.45</td>\n",
       "        <td>13.62</td>\n",
       "        <td>10616380</td>\n",
       "    </tr>\n",
       "    <tr>\n",
       "        <td>Angola</td>\n",
       "        <td>38.78</td>\n",
       "        <td>11.49</td>\n",
       "        <td>19625353</td>\n",
       "    </tr>\n",
       "    <tr>\n",
       "        <td>Mozambique</td>\n",
       "        <td>38.58</td>\n",
       "        <td>12.1</td>\n",
       "        <td>25303113</td>\n",
       "    </tr>\n",
       "    <tr>\n",
       "        <td>Afghanistan</td>\n",
       "        <td>38.57</td>\n",
       "        <td>13.89</td>\n",
       "        <td>32564342</td>\n",
       "    </tr>\n",
       "    <tr>\n",
       "        <td>Nigeria</td>\n",
       "        <td>37.64</td>\n",
       "        <td>12.9</td>\n",
       "        <td>181562056</td>\n",
       "    </tr>\n",
       "    <tr>\n",
       "        <td>Ethiopia</td>\n",
       "        <td>37.27</td>\n",
       "        <td>8.19</td>\n",
       "        <td>99465819</td>\n",
       "    </tr>\n",
       "    <tr>\n",
       "        <td>Sierra Leone</td>\n",
       "        <td>37.03</td>\n",
       "        <td>10.81</td>\n",
       "        <td>5879098</td>\n",
       "    </tr>\n",
       "    <tr>\n",
       "        <td>South Sudan</td>\n",
       "        <td>36.91</td>\n",
       "        <td>8.18</td>\n",
       "        <td>12042910</td>\n",
       "    </tr>\n",
       "    <tr>\n",
       "        <td>Chad</td>\n",
       "        <td>36.6</td>\n",
       "        <td>14.28</td>\n",
       "        <td>11631456</td>\n",
       "    </tr>\n",
       "    <tr>\n",
       "        <td>Tanzania</td>\n",
       "        <td>36.39</td>\n",
       "        <td>8.0</td>\n",
       "        <td>51045882</td>\n",
       "    </tr>\n",
       "    <tr>\n",
       "        <td>Cameroon</td>\n",
       "        <td>36.17</td>\n",
       "        <td>10.11</td>\n",
       "        <td>23739218</td>\n",
       "    </tr>\n",
       "    <tr>\n",
       "        <td>Benin</td>\n",
       "        <td>36.02</td>\n",
       "        <td>8.21</td>\n",
       "        <td>10448647</td>\n",
       "    </tr>\n",
       "    <tr>\n",
       "        <td>Congo, Republic of the</td>\n",
       "        <td>35.85</td>\n",
       "        <td>10.0</td>\n",
       "        <td>4755097</td>\n",
       "    </tr>\n",
       "</table>"
      ],
      "text/plain": [
       "[('Niger', 45.45, 12.42, 18045729),\n",
       " ('Mali', 44.99, 12.89, 16955536),\n",
       " ('Uganda', 43.79, 10.69, 37101745),\n",
       " ('Zambia', 42.13, 12.67, 15066266),\n",
       " ('Burkina Faso', 42.03, 11.72, 18931686),\n",
       " ('Burundi', 42.01, 9.27, 10742276),\n",
       " ('Malawi', 41.56, 8.41, 17964697),\n",
       " ('Somalia', 40.45, 13.62, 10616380),\n",
       " ('Angola', 38.78, 11.49, 19625353),\n",
       " ('Mozambique', 38.58, 12.1, 25303113),\n",
       " ('Afghanistan', 38.57, 13.89, 32564342),\n",
       " ('Nigeria', 37.64, 12.9, 181562056),\n",
       " ('Ethiopia', 37.27, 8.19, 99465819),\n",
       " ('Sierra Leone', 37.03, 10.81, 5879098),\n",
       " ('South Sudan', 36.91, 8.18, 12042910),\n",
       " ('Chad', 36.6, 14.28, 11631456),\n",
       " ('Tanzania', 36.39, 8.0, 51045882),\n",
       " ('Cameroon', 36.17, 10.11, 23739218),\n",
       " ('Benin', 36.02, 8.21, 10448647),\n",
       " ('Congo, Republic of the', 35.85, 10.0, 4755097)]"
      ]
     },
     "execution_count": 16,
     "metadata": {},
     "output_type": "execute_result"
    }
   ],
   "source": [
    "%%sql\n",
    "SELECT name AS Country, birth_rate AS Birth_Rate, death_rate AS Death_Rate, population AS Population\n",
    "  FROM facts\n",
    "ORDER BY birth_rate DESC\n",
    "Limit 20;"
   ]
  },
  {
   "cell_type": "markdown",
   "metadata": {},
   "source": [
    "## <span style=\"color:green\">Observations</span>\n",
    "\n",
    "#### **WOW!**\n",
    "\n",
    "Only 1 out of the top 20 countries with highest birth_rate is **NOT** from Africa! That is Afghanistan.\n",
    "\n",
    "All the rest are countries of Africa. I came across some reasons given in an article I read. You can find it [here](https://www.populationconnection.org/africa-globaldev/ \"here\")\n",
    "\n",
    "A key reason given is, high fertility driven by multiple factors:\n",
    "\n",
    "- high desired family size\n",
    "- low levels of use of modern contraceptives\n",
    "- high levels of adolescent child bearing\n",
    "\n",
    "The graph below taken from the article I read, shows fertility rate of Africa compared to other regions of the world."
   ]
  },
  {
   "cell_type": "markdown",
   "metadata": {},
   "source": [
    "![](Fertility.jpg)"
   ]
  },
  {
   "cell_type": "markdown",
   "metadata": {},
   "source": [
    "## <span style=\"color:blue\">Final Questions</span>\n",
    "\n",
    "#### 1. Which countries have more water than land?\n",
    "#### 2. Which countries have the highest ratios under 1.0 of water to land?"
   ]
  },
  {
   "cell_type": "code",
   "execution_count": 17,
   "metadata": {},
   "outputs": [
    {
     "name": "stdout",
     "output_type": "stream",
     "text": [
      " * sqlite:///factbook.db\n",
      "Done.\n"
     ]
    },
    {
     "data": {
      "text/html": [
       "<table>\n",
       "    <tr>\n",
       "        <th>Country</th>\n",
       "        <th>Land_Area</th>\n",
       "        <th>Water_Area</th>\n",
       "        <th>Ratio_of_Water_to_Land</th>\n",
       "    </tr>\n",
       "    <tr>\n",
       "        <td>British Indian Ocean Territory</td>\n",
       "        <td>60</td>\n",
       "        <td>54340</td>\n",
       "        <td>905.6667</td>\n",
       "    </tr>\n",
       "    <tr>\n",
       "        <td>Virgin Islands</td>\n",
       "        <td>346</td>\n",
       "        <td>1564</td>\n",
       "        <td>4.5202</td>\n",
       "    </tr>\n",
       "    <tr>\n",
       "        <td>Puerto Rico</td>\n",
       "        <td>8870</td>\n",
       "        <td>4921</td>\n",
       "        <td>0.5548</td>\n",
       "    </tr>\n",
       "    <tr>\n",
       "        <td>Bahamas, The</td>\n",
       "        <td>10010</td>\n",
       "        <td>3870</td>\n",
       "        <td>0.3866</td>\n",
       "    </tr>\n",
       "    <tr>\n",
       "        <td>Guinea-Bissau</td>\n",
       "        <td>28120</td>\n",
       "        <td>8005</td>\n",
       "        <td>0.2847</td>\n",
       "    </tr>\n",
       "    <tr>\n",
       "        <td>Malawi</td>\n",
       "        <td>94080</td>\n",
       "        <td>24404</td>\n",
       "        <td>0.2594</td>\n",
       "    </tr>\n",
       "    <tr>\n",
       "        <td>Netherlands</td>\n",
       "        <td>33893</td>\n",
       "        <td>7650</td>\n",
       "        <td>0.2257</td>\n",
       "    </tr>\n",
       "    <tr>\n",
       "        <td>Uganda</td>\n",
       "        <td>197100</td>\n",
       "        <td>43938</td>\n",
       "        <td>0.2229</td>\n",
       "    </tr>\n",
       "    <tr>\n",
       "        <td>Eritrea</td>\n",
       "        <td>101000</td>\n",
       "        <td>16600</td>\n",
       "        <td>0.1644</td>\n",
       "    </tr>\n",
       "    <tr>\n",
       "        <td>Liberia</td>\n",
       "        <td>96320</td>\n",
       "        <td>15049</td>\n",
       "        <td>0.1562</td>\n",
       "    </tr>\n",
       "    <tr>\n",
       "        <td>Bangladesh</td>\n",
       "        <td>130170</td>\n",
       "        <td>18290</td>\n",
       "        <td>0.1405</td>\n",
       "    </tr>\n",
       "    <tr>\n",
       "        <td>Gambia, The</td>\n",
       "        <td>10120</td>\n",
       "        <td>1180</td>\n",
       "        <td>0.1166</td>\n",
       "    </tr>\n",
       "    <tr>\n",
       "        <td>Taiwan</td>\n",
       "        <td>32260</td>\n",
       "        <td>3720</td>\n",
       "        <td>0.1153</td>\n",
       "    </tr>\n",
       "    <tr>\n",
       "        <td>Finland</td>\n",
       "        <td>303815</td>\n",
       "        <td>34330</td>\n",
       "        <td>0.113</td>\n",
       "    </tr>\n",
       "    <tr>\n",
       "        <td>India</td>\n",
       "        <td>2973193</td>\n",
       "        <td>314070</td>\n",
       "        <td>0.1056</td>\n",
       "    </tr>\n",
       "    <tr>\n",
       "        <td>Canada</td>\n",
       "        <td>9093507</td>\n",
       "        <td>891163</td>\n",
       "        <td>0.098</td>\n",
       "    </tr>\n",
       "    <tr>\n",
       "        <td>Sweden</td>\n",
       "        <td>410335</td>\n",
       "        <td>39960</td>\n",
       "        <td>0.0974</td>\n",
       "    </tr>\n",
       "    <tr>\n",
       "        <td>Colombia</td>\n",
       "        <td>1038700</td>\n",
       "        <td>100210</td>\n",
       "        <td>0.0965</td>\n",
       "    </tr>\n",
       "    <tr>\n",
       "        <td>Brunei</td>\n",
       "        <td>5265</td>\n",
       "        <td>500</td>\n",
       "        <td>0.095</td>\n",
       "    </tr>\n",
       "    <tr>\n",
       "        <td>Guyana</td>\n",
       "        <td>196849</td>\n",
       "        <td>18120</td>\n",
       "        <td>0.0921</td>\n",
       "    </tr>\n",
       "</table>"
      ],
      "text/plain": [
       "[('British Indian Ocean Territory', 60, 54340, 905.6667),\n",
       " ('Virgin Islands', 346, 1564, 4.5202),\n",
       " ('Puerto Rico', 8870, 4921, 0.5548),\n",
       " ('Bahamas, The', 10010, 3870, 0.3866),\n",
       " ('Guinea-Bissau', 28120, 8005, 0.2847),\n",
       " ('Malawi', 94080, 24404, 0.2594),\n",
       " ('Netherlands', 33893, 7650, 0.2257),\n",
       " ('Uganda', 197100, 43938, 0.2229),\n",
       " ('Eritrea', 101000, 16600, 0.1644),\n",
       " ('Liberia', 96320, 15049, 0.1562),\n",
       " ('Bangladesh', 130170, 18290, 0.1405),\n",
       " ('Gambia, The', 10120, 1180, 0.1166),\n",
       " ('Taiwan', 32260, 3720, 0.1153),\n",
       " ('Finland', 303815, 34330, 0.113),\n",
       " ('India', 2973193, 314070, 0.1056),\n",
       " ('Canada', 9093507, 891163, 0.098),\n",
       " ('Sweden', 410335, 39960, 0.0974),\n",
       " ('Colombia', 1038700, 100210, 0.0965),\n",
       " ('Brunei', 5265, 500, 0.095),\n",
       " ('Guyana', 196849, 18120, 0.0921)]"
      ]
     },
     "execution_count": 17,
     "metadata": {},
     "output_type": "execute_result"
    }
   ],
   "source": [
    "%%sql\n",
    "SELECT name AS Country, area_land AS Land_Area, area_water AS Water_Area, ROUND(CAST(area_water AS Float)/CAST(area_land AS Float), 4) AS Ratio_of_Water_to_Land\n",
    "  FROM facts\n",
    " WHERE (area_water != 'None') AND (area_water != 0) AND (area_land != 'None') AND (area_land != 0)\n",
    "ORDER BY Ratio_of_Water_to_Land DESC\n",
    " Limit 20;\n"
   ]
  },
  {
   "cell_type": "markdown",
   "metadata": {},
   "source": [
    "## <span style=\"color:green\">Observations</span>\n",
    "\n",
    "There are only two \"countries\" shown in the table above identified as having greater water area than land area: **The British Indian Ocean Territory** and the **Virgin Islands**. Personnally, I would say that is **<span style=\"color:red\">\"not correct\"</span>** in that I believe the water area is calculated based on all the water between the islands for each of these two \"countries\". Both the British Indian Ocean Territory and Virgin Islands are a group of many islands as shown in the two maps below. The islands do not fully enclose all the water in between to create a \"lake\" or series of \"lakes\". **<span style=\"color:red\">On that basis then, I would say these do not qualify as cases where the ratio of water area to land area is greater than one.</span>**\n",
    "\n",
    "\n",
    "**The British Indian Ocean Territory** (BIOT) shown in map below, enjoys a highly strategic location in the centre of the Indian Ocean, about 1,770 kilometres east of the Seychelles and 2,180km north-east of Port Louis, Mauritius. The territory, an archipelago of 58 islands also known as the Chagos Archipelago, covers some 640,000km2 of ocean. The islands have a total land area of only 60km2. Diego Garcia, the largest and most southerly island, has an area of 44 square km. In 1971, Diego Garcia was closed when the island was deemed necessary for defence purposes under the 1966 UK-US Exchange of Notes. Diego Garcia is home to approximately 3,000 UK and US military personnel and civilian contractors.\n",
    "\n",
    "**Virgin Islands** - Of the 36 British islands, 16 are inhabited. Tortola (Turtle Dove), with an area of 21 square miles, is the largest and is the site of the group’s capital and population centre, Road Town. Other larger islands in the British group are Anegada, with an area of 15 square miles; Virgin Gorda (the Fat Virgin), with an area of 8 square miles; and Jost Van Dyke, about 3 square miles. Lesser islands include Great Tobago, Salt, Peter, Cooper, Norman, Guana, Beef, Great Thatch, Little Thatch, and Marina Cay.\n",
    "\n",
    "**Puerto Rico** - Even though the ratio of water area to land area for Puerto Rico is less than 1 (0.5548), I believe that value is also not legitimate for the same reason as the two cases above (see map of Puerto Rico further below). I read the following about Puerto Rico: _\"Although, often referred an island, Puerto Rico is an archipelago formed by the main island and 143 small islands, islets and cays, including Vieques, Culebra, Culebrita, Palomino, Mona, and Monito. Vieques and Culebra are also known by some by the Spanish Virgin Islands, formerly called the Passage Islands and also known as the Puerto Rican Virgin Islands.\"_\n",
    "\n",
    "I would say the ratio values shown above for **The Bahamas** and **Guinea-Bassau** are also inaccurate for the same reason because of the inclusion of many islands.\n",
    "\n",
    "It looks like the country with the highest legitimate water area to land area ratio is **Malawi (0.2847)**. We would say that about 25% of Malawi is covered with water. The map further below makes that value look reasonable. Malawi, a landlocked country in southeastern Africa, is defined by its topography of highlands split by the Great Rift Valley and enormous Lake Malawi. The lake’s southern end falls within Lake Malawi National Park – sheltering diverse wildlife from colorful fish to baboons – and its clear waters are popular for diving and boating. Peninsular Cape Maclear is known for its beach resorts.\n",
    "\n",
    "In conclusion, I would say that no country has more than 30% of its land covered with water."
   ]
  },
  {
   "cell_type": "markdown",
   "metadata": {},
   "source": [
    "![](BIOT.jpg)"
   ]
  },
  {
   "cell_type": "markdown",
   "metadata": {},
   "source": [
    "![](BVI.jpg)"
   ]
  },
  {
   "cell_type": "markdown",
   "metadata": {},
   "source": [
    "![](PR.jpg)"
   ]
  },
  {
   "cell_type": "markdown",
   "metadata": {},
   "source": [
    "![](Malawi.jpg)"
   ]
  },
  {
   "cell_type": "markdown",
   "metadata": {},
   "source": [
    "## Summary\n",
    "\n",
    "I don't think I need to rehash all the observations described above.\n",
    "\n",
    "It has been a great journey around the world discovering many things I didn't know about various countries! It sort of tweaked my interest in doing some travelling, when the time is right.\n",
    "\n",
    "I suppose the most interesting thing I learned was about the Pitcairn Islands and Pitcairn itself being known as \"Mutiny on the Bounty\" Island and its history surrounding that!\n",
    "\n",
    "**<span style=\"color:blue\">I hope you enjoyed this very informative journey with me. Perhaps my next world project will be titled,</span> <span style=\"color:red\">\"Around the World in 80 Ways\".</span>**"
   ]
  }
 ],
 "metadata": {
  "kernelspec": {
   "display_name": "Python 3",
   "language": "python",
   "name": "python3"
  },
  "language_info": {
   "codemirror_mode": {
    "name": "ipython",
    "version": 3
   },
   "file_extension": ".py",
   "mimetype": "text/x-python",
   "name": "python",
   "nbconvert_exporter": "python",
   "pygments_lexer": "ipython3",
   "version": "3.8.5"
  }
 },
 "nbformat": 4,
 "nbformat_minor": 4
}
